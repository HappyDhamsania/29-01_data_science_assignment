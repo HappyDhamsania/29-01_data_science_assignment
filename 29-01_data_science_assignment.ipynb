{
 "cells": [
  {
   "cell_type": "code",
   "execution_count": null,
   "id": "767e5a52-71fb-495f-af84-c724f161b8e1",
   "metadata": {},
   "outputs": [],
   "source": [
    "Who developed Python Programming Language?"
   ]
  },
  {
   "cell_type": "code",
   "execution_count": null,
   "id": "660cf8ae-2e99-43fb-be97-8571e86bc2c8",
   "metadata": {},
   "outputs": [],
   "source": [
    "Guido van Rossum"
   ]
  },
  {
   "cell_type": "code",
   "execution_count": null,
   "id": "5ae4c449-e677-41de-80c3-13c06cf546ad",
   "metadata": {},
   "outputs": [],
   "source": [
    "Which type of Programming does Python support? "
   ]
  },
  {
   "cell_type": "code",
   "execution_count": null,
   "id": "a34ffe59-ae81-4071-b28a-e0f2dc57d4fc",
   "metadata": {},
   "outputs": [],
   "source": [
    "object oriented, structured and functional programming"
   ]
  },
  {
   "cell_type": "code",
   "execution_count": null,
   "id": "dbed3b11-9a75-4fdd-9bd4-eccf941b4438",
   "metadata": {},
   "outputs": [],
   "source": [
    "Is Python case sensitive when dealing with identifiers?"
   ]
  },
  {
   "cell_type": "code",
   "execution_count": null,
   "id": "562d765d-51c0-4ca6-ae6f-f82041749355",
   "metadata": {},
   "outputs": [],
   "source": [
    "yes"
   ]
  },
  {
   "cell_type": "code",
   "execution_count": null,
   "id": "7fb480df-2b7c-4e45-9f78-17da7b953c2b",
   "metadata": {},
   "outputs": [],
   "source": [
    "What is the correct extension of the Python file? "
   ]
  },
  {
   "cell_type": "code",
   "execution_count": null,
   "id": "f349681a-dcdf-4390-af66-667e602672bc",
   "metadata": {},
   "outputs": [],
   "source": [
    ".py"
   ]
  },
  {
   "cell_type": "code",
   "execution_count": null,
   "id": "e7771d05-7017-4f2d-bd90-37495c63ff53",
   "metadata": {},
   "outputs": [],
   "source": [
    "Is Python code compiled or interpreted? "
   ]
  },
  {
   "cell_type": "code",
   "execution_count": null,
   "id": "6da296d7-2976-42d8-b91e-cf36e4edff62",
   "metadata": {},
   "outputs": [],
   "source": [
    "Python code is both compiled and interpreted"
   ]
  },
  {
   "cell_type": "code",
   "execution_count": null,
   "id": "ebba10f1-0a2e-4c55-b28b-8b8985eb75e5",
   "metadata": {},
   "outputs": [],
   "source": [
    "Name a few blocks of code used to define in Python language?"
   ]
  },
  {
   "cell_type": "code",
   "execution_count": null,
   "id": "b96d9abc-6d70-42d7-a758-60e557f232d1",
   "metadata": {},
   "outputs": [],
   "source": [
    "if,else,elif,for,while"
   ]
  },
  {
   "cell_type": "code",
   "execution_count": null,
   "id": "5e62e2b2-aa11-4d12-88d9-34452d2a2016",
   "metadata": {},
   "outputs": [],
   "source": [
    "State a character used to give single-line comments in Python?"
   ]
  },
  {
   "cell_type": "code",
   "execution_count": null,
   "id": "5656504a-3c8b-423f-be01-f447179a929a",
   "metadata": {},
   "outputs": [],
   "source": [
    "#"
   ]
  },
  {
   "cell_type": "code",
   "execution_count": null,
   "id": "3c1c42ba-8cff-4556-9829-b017470313ce",
   "metadata": {},
   "outputs": [],
   "source": [
    "Mention functions which can help us to find the version of python that we are currently working on?"
   ]
  },
  {
   "cell_type": "code",
   "execution_count": null,
   "id": "298afe28-353b-4961-83c4-98165e6bf953",
   "metadata": {},
   "outputs": [],
   "source": [
    "sys.version"
   ]
  },
  {
   "cell_type": "code",
   "execution_count": null,
   "id": "bffbaa45-3702-4a43-a500-6527b54cefe1",
   "metadata": {},
   "outputs": [],
   "source": [
    "Python supports the creation of anonymous functions at runtime, using a construct called"
   ]
  },
  {
   "cell_type": "code",
   "execution_count": null,
   "id": "f871fe8c-9ee5-43f4-b272-c15798db0da6",
   "metadata": {},
   "outputs": [],
   "source": [
    "lambda"
   ]
  },
  {
   "cell_type": "code",
   "execution_count": null,
   "id": "49af349a-26da-42f2-a372-326a16e5e0fe",
   "metadata": {},
   "outputs": [],
   "source": [
    "What does pip stand for python?"
   ]
  },
  {
   "cell_type": "code",
   "execution_count": null,
   "id": "7f7f0ed0-fcf0-480e-a839-8c64af002642",
   "metadata": {},
   "outputs": [],
   "source": [
    "Preferred Installer Program"
   ]
  },
  {
   "cell_type": "code",
   "execution_count": null,
   "id": "9475ad6e-8cbb-4bce-a4ec-aa95b85d7281",
   "metadata": {},
   "outputs": [],
   "source": [
    "Mention a few built-in functions in python?"
   ]
  },
  {
   "cell_type": "code",
   "execution_count": null,
   "id": "976538e2-8ac7-4b4d-a55d-bead4ba4ea30",
   "metadata": {},
   "outputs": [],
   "source": [
    "print(),type(),len(),input(),help(),sum(),max()"
   ]
  },
  {
   "cell_type": "code",
   "execution_count": null,
   "id": "4d57cafd-16de-440c-82d4-ff04a6202683",
   "metadata": {},
   "outputs": [],
   "source": [
    "What is the maximum possible length of an identifier in Python?"
   ]
  },
  {
   "cell_type": "code",
   "execution_count": null,
   "id": "cc49a8df-01c9-4ab5-bde6-e28384c9e410",
   "metadata": {},
   "outputs": [],
   "source": [
    "79 characters"
   ]
  },
  {
   "cell_type": "code",
   "execution_count": null,
   "id": "6e705bd4-6b9c-48f9-8fc4-6baa9bd865c6",
   "metadata": {},
   "outputs": [],
   "source": [
    "What are the benefits of using Python?"
   ]
  },
  {
   "cell_type": "code",
   "execution_count": null,
   "id": "eb10cbf1-e1fa-4de0-905e-2c15da17ce37",
   "metadata": {},
   "outputs": [],
   "source": [
    "1.Python has English like syntax so it is easy to learn and understand\n",
    "2.Due to the simplicity of Python we can focus easily on solving the problem\n",
    "3.Free and open source\n",
    "4.No need to mention data type based on the value assigned it takes data type"
   ]
  },
  {
   "cell_type": "code",
   "execution_count": null,
   "id": "abb065b4-3513-473c-9efe-3ff9047a7247",
   "metadata": {},
   "outputs": [],
   "source": [
    "How is memory managed in Python?"
   ]
  },
  {
   "cell_type": "code",
   "execution_count": null,
   "id": "293188a1-4eab-43a0-a3ff-3abbc08bb45d",
   "metadata": {},
   "outputs": [],
   "source": [
    "Python has a private heap that stores our program’s objects and data structures"
   ]
  },
  {
   "cell_type": "code",
   "execution_count": null,
   "id": "14fc5f15-8d40-4c1a-bd6f-7c6dc467d5c8",
   "metadata": {},
   "outputs": [],
   "source": [
    "How to install Python on Windows and set path variables?"
   ]
  },
  {
   "cell_type": "code",
   "execution_count": null,
   "id": "95fbee65-d09d-49cf-9d89-10780a5f9f77",
   "metadata": {},
   "outputs": [],
   "source": [
    "download python executible form www.python.org and in the section entitled User Variables double click on the entry that says Path. Another window will pop up showing a list of paths. Click the New button and paste the path to your Python executable there. Once that's inserted select your newly added path and click the move up button until it's at the top."
   ]
  },
  {
   "cell_type": "code",
   "execution_count": null,
   "id": "6300947f-53fb-4468-8bb4-098ab387c939",
   "metadata": {},
   "outputs": [],
   "source": [
    "Is indentation required in python?"
   ]
  },
  {
   "cell_type": "code",
   "execution_count": null,
   "id": "541bde08-19cb-4e0c-9563-9a5753d44c95",
   "metadata": {},
   "outputs": [],
   "source": [
    "yes"
   ]
  }
 ],
 "metadata": {
  "kernelspec": {
   "display_name": "Python 3 (ipykernel)",
   "language": "python",
   "name": "python3"
  },
  "language_info": {
   "codemirror_mode": {
    "name": "ipython",
    "version": 3
   },
   "file_extension": ".py",
   "mimetype": "text/x-python",
   "name": "python",
   "nbconvert_exporter": "python",
   "pygments_lexer": "ipython3",
   "version": "3.10.8"
  }
 },
 "nbformat": 4,
 "nbformat_minor": 5
}
